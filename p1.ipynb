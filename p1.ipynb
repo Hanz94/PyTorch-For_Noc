{
 "cells": [
  {
   "cell_type": "code",
   "execution_count": 4,
   "id": "59efdaef",
   "metadata": {},
   "outputs": [],
   "source": [
    "import torch\n",
    "\n",
    "x = torch.Tensor([5,3])\n",
    "y = torch.Tensor([2,1])"
   ]
  },
  {
   "cell_type": "code",
   "execution_count": 7,
   "id": "0c41ed6f",
   "metadata": {},
   "outputs": [
    {
     "name": "stdout",
     "output_type": "stream",
     "text": [
      "tensor([10.,  3.])\n"
     ]
    }
   ],
   "source": [
    "print(x*y)"
   ]
  },
  {
   "cell_type": "code",
   "execution_count": 10,
   "id": "85f187fd",
   "metadata": {},
   "outputs": [],
   "source": [
    "x = torch.zeros([2,5])\n"
   ]
  },
  {
   "cell_type": "code",
   "execution_count": 12,
   "id": "5ae0b157",
   "metadata": {},
   "outputs": [
    {
     "data": {
      "text/plain": [
       "torch.Size([2, 5])"
      ]
     },
     "execution_count": 12,
     "metadata": {},
     "output_type": "execute_result"
    }
   ],
   "source": [
    "x\n",
    "x.shape"
   ]
  },
  {
   "cell_type": "code",
   "execution_count": 14,
   "id": "8879f522",
   "metadata": {},
   "outputs": [],
   "source": [
    "y = torch.rand([2,5])\n"
   ]
  },
  {
   "cell_type": "code",
   "execution_count": 15,
   "id": "6475ea0f",
   "metadata": {},
   "outputs": [
    {
     "data": {
      "text/plain": [
       "tensor([[0.3574, 0.4230, 0.3292, 0.4754, 0.0677],\n",
       "        [0.5880, 0.4943, 0.8318, 0.5023, 0.1719]])"
      ]
     },
     "execution_count": 15,
     "metadata": {},
     "output_type": "execute_result"
    }
   ],
   "source": [
    "y"
   ]
  },
  {
   "cell_type": "code",
   "execution_count": 17,
   "id": "55caef20",
   "metadata": {},
   "outputs": [
    {
     "data": {
      "text/plain": [
       "tensor([[0.3574, 0.4230, 0.3292, 0.4754, 0.0677, 0.5880, 0.4943, 0.8318, 0.5023,\n",
       "         0.1719]])"
      ]
     },
     "execution_count": 17,
     "metadata": {},
     "output_type": "execute_result"
    }
   ],
   "source": [
    "y.view([1,10])"
   ]
  },
  {
   "cell_type": "code",
   "execution_count": 18,
   "id": "31484ecf",
   "metadata": {},
   "outputs": [
    {
     "data": {
      "text/plain": [
       "tensor([[0.3574, 0.4230, 0.3292, 0.4754, 0.0677],\n",
       "        [0.5880, 0.4943, 0.8318, 0.5023, 0.1719]])"
      ]
     },
     "execution_count": 18,
     "metadata": {},
     "output_type": "execute_result"
    }
   ],
   "source": [
    "y"
   ]
  },
  {
   "cell_type": "code",
   "execution_count": null,
   "id": "0665dff0",
   "metadata": {},
   "outputs": [],
   "source": []
  }
 ],
 "metadata": {
  "kernelspec": {
   "display_name": "Python 3",
   "language": "python",
   "name": "python3"
  },
  "language_info": {
   "codemirror_mode": {
    "name": "ipython",
    "version": 3
   },
   "file_extension": ".py",
   "mimetype": "text/x-python",
   "name": "python",
   "nbconvert_exporter": "python",
   "pygments_lexer": "ipython3",
   "version": "3.8.11"
  }
 },
 "nbformat": 4,
 "nbformat_minor": 5
}
